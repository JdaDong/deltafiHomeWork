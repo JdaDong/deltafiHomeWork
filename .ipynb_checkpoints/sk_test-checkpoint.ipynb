{
 "cells": [
  {
   "cell_type": "code",
   "execution_count": null,
   "metadata": {
    "ExecuteTime": {
     "end_time": "2023-07-01T10:10:13.347219500Z",
     "start_time": "2023-07-01T10:10:13.328362600Z"
    }
   },
   "outputs": [],
   "source": [
    "import os"
   ]
  },
  {
   "cell_type": "code",
   "execution_count": null,
   "metadata": {
    "ExecuteTime": {
     "end_time": "2023-07-01T10:10:14.935748600Z",
     "start_time": "2023-07-01T10:10:14.918165300Z"
    }
   },
   "outputs": [],
   "source": [
    "import pandas as pd\n",
    "import numpy as np\n",
    "import seaborn as sns\n",
    "import sklearn\n"
   ]
  },
  {
   "cell_type": "code",
   "execution_count": null,
   "metadata": {
    "ExecuteTime": {
     "end_time": "2023-07-01T10:14:59.205106800Z",
     "start_time": "2023-07-01T10:14:59.189407400Z"
    }
   },
   "outputs": [],
   "source": [
    "file_dir = \"./eth-nft-token-transfers\"\n",
    "all_file_list = os.listdir(file_dir)"
   ]
  },
  {
   "cell_type": "code",
   "execution_count": null,
   "metadata": {
    "ExecuteTime": {
     "end_time": "2023-07-01T10:17:05.506317100Z",
     "start_time": "2023-07-01T10:16:04.242947500Z"
    }
   },
   "outputs": [],
   "source": [
    "for single_file in all_file_list:\n",
    "    single_data_frame = pd.read_csv(\n",
    "        os.path.join(file_dir, single_file), sep='\\t',header=1\n",
    "    )\n",
    "    single_data_frame.head(4)"
   ]
  },
  {
   "cell_type": "code",
   "execution_count": null,
   "metadata": {},
   "outputs": [],
   "source": []
  }
 ],
 "metadata": {
  "kernelspec": {
   "display_name": "Python 3 (ipykernel)",
   "language": "python",
   "name": "python3"
  },
  "language_info": {
   "codemirror_mode": {
    "name": "ipython",
    "version": 3
   },
   "file_extension": ".py",
   "mimetype": "text/x-python",
   "name": "python",
   "nbconvert_exporter": "python",
   "pygments_lexer": "ipython3",
   "version": "3.10.9"
  }
 },
 "nbformat": 4,
 "nbformat_minor": 1
}
